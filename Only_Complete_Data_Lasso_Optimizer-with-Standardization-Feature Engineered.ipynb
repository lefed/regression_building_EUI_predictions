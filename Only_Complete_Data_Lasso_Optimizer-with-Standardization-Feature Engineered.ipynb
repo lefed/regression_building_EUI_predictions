{
 "cells": [
  {
   "cell_type": "code",
   "execution_count": 1,
   "metadata": {
    "collapsed": true
   },
   "outputs": [],
   "source": [
    "import csv\n",
    "import numpy as np\n",
    "import pandas as pd\n",
    "import seaborn as sns\n",
    "from sklearn.model_selection import KFold\n",
    "from sklearn.model_selection import train_test_split\n",
    "from sklearn.linear_model import LinearRegression, Lasso, LassoCV, Ridge, RidgeCV\n",
    "from sklearn.ensemble import RandomForestRegressor\n",
    "\n",
    "import matplotlib.pyplot as plt\n",
    "\n",
    "%matplotlib inline"
   ]
  },
  {
   "cell_type": "code",
   "execution_count": 2,
   "metadata": {
    "collapsed": true
   },
   "outputs": [],
   "source": [
    "## Load in the merged SF EUI/SF Property Info Map Data\n",
    "datafile = \"merged_SF_EUI_SF_Info_Map_df.csv\"\n",
    "df=pd.read_csv(datafile)\n",
    "\n",
    "# Delete year built >2017\n",
    "df = df.loc[df['year_built_cl']<=2017,:].reset_index()\n"
   ]
  },
  {
   "cell_type": "code",
   "execution_count": 3,
   "metadata": {},
   "outputs": [
    {
     "data": {
      "text/plain": [
       "<matplotlib.text.Text at 0x11921b7b8>"
      ]
     },
     "execution_count": 3,
     "metadata": {},
     "output_type": "execute_result"
    },
    {
     "data": {
      "image/png": "[encoded data removed]",
      "text/plain": [
       "<matplotlib.figure.Figure at 0x119ae7780>"
      ]
     },
     "metadata": {},
     "output_type": "display_data"
    }
   ],
   "source": [
    "fig, ax = plt.subplots()\n",
    "plt.plot(df['2015 Weather Normalized Site EUI (kBtu/ft2)'])\n",
    "ax.set_title('2015 Weather Normalized Site EUI for Commercial Buildings in San Francisco (kBtu/ft2)')\n",
    "ax.set_ylabel('EUI - kBtu/SF')"
   ]
  },
  {
   "cell_type": "code",
   "execution_count": 4,
   "metadata": {
    "collapsed": true
   },
   "outputs": [],
   "source": [
    "all_vals_y_data = df.dropna(subset = ['2015 Weather Normalized Site EUI (kBtu/ft2)']).copy().reset_index()\n",
    "all_vals_y_data.dropna(thresh= (len(all_vals_y_data) - 200), axis=1, inplace = True)\n"
   ]
  },
  {
   "cell_type": "code",
   "execution_count": 5,
   "metadata": {},
   "outputs": [
    {
     "name": "stdout",
     "output_type": "stream",
     "text": [
      "<class 'pandas.core.frame.DataFrame'>\n",
      "RangeIndex: 978 entries, 0 to 977\n",
      "Data columns (total 21 columns):\n",
      "level_0                                        978 non-null int64\n",
      "index                                          978 non-null int64\n",
      "Unnamed: 0                                     978 non-null int64\n",
      "Unnamed: 0.1                                   978 non-null int64\n",
      "parcel_index                                   978 non-null object\n",
      "Postal Code                                    978 non-null int64\n",
      "Full_Address_clean                             978 non-null object\n",
      "Building Name_clean                            978 non-null object\n",
      "Energy Audit Status_clean                      977 non-null object\n",
      "Benchmark 2015 Status_clean                    978 non-null object\n",
      "Property Type - Self Selected_clean            978 non-null object\n",
      "Datetime Energy Audit Due                      977 non-null object\n",
      "Energy Audit Status_clean.1                    977 non-null object\n",
      "2015 Weather Normalized Site EUI (kBtu/ft2)    978 non-null float64\n",
      "address_cl                                     976 non-null object\n",
      "land_value_cl                                  967 non-null float64\n",
      "structure_value_cl                             961 non-null float64\n",
      "year_built_cl                                  978 non-null float64\n",
      "building_area_cl                               867 non-null float64\n",
      "parcel_area_cl                                 938 non-null float64\n",
      "stories_cl                                     949 non-null float64\n",
      "dtypes: float64(7), int64(5), object(9)\n",
      "memory usage: 160.5+ KB\n"
     ]
    }
   ],
   "source": [
    "all_vals_y_data.info()"
   ]
  },
  {
   "cell_type": "code",
   "execution_count": 6,
   "metadata": {
    "collapsed": true
   },
   "outputs": [],
   "source": [
    "all_vals_y_data.drop(['Unnamed: 0', 'Unnamed: 0.1', 'Energy Audit Status_clean.1', 'level_0', 'index'], axis=1, inplace = True)"
   ]
  },
  {
   "cell_type": "code",
   "execution_count": 7,
   "metadata": {
    "collapsed": true
   },
   "outputs": [],
   "source": [
    "x_complete_all_vals_y_data = all_vals_y_data.dropna().copy()"
   ]
  },
  {
   "cell_type": "code",
   "execution_count": 8,
   "metadata": {
    "collapsed": true
   },
   "outputs": [],
   "source": [
    "def choose_building_type(n):\n",
    "    building_type = 'Other'\n",
    "    if n in ['Urgent Care/Clinic/Other Outpatient', 'Hospital (General Medical & Surgical)', 'Veterinary Office', 'Laboratory']:\n",
    "        building_type = 'Healthcare or Laboratory'\n",
    "    if n in ['Restaurant', 'Food Sales','Supermarket/Grocery Store', 'Food Service', 'Other - Restaurant/Bar']:\n",
    "        building_type = 'Food Service'\n",
    "    if n in ['Office', 'Financial Office', 'Medical Office', 'Bank Branch']:\n",
    "        building_type = 'Office'\n",
    "    if n in ['Worship Facility', 'Social/Meeting Hall', 'Other - Recreation', 'Senior Care Community', 'Other - Entertainment/Public Assembly', 'Museum']:   \n",
    "        building_type = 'Community Facility'\n",
    "    if n in ['Hotel']:\n",
    "        building_type = 'Hospitality'\n",
    "    if n in ['College/University', 'Other - Education','Adult Education', 'K-12 School', 'Pre-school/Daycare', 'Vocational School']:\n",
    "        building_type = 'Education'\n",
    "    if n in ['Mixed Use Property', 'Other - Mall','Enclosed Mall','Repair Services (Vehicle, Shoe, Locksmith, etc.)','Automobile Dealership','Other - Services', 'Retail Store', 'Personal Services (Health/Beauty, Dry Cleaning, etc.)', 'Strip Mall']:\n",
    "        building_type = 'Mixed Use or Retail'\n",
    "    if n in ['Parking']:\n",
    "        building_type = 'Parking'\n",
    "    if n in ['Manufacturing/Industrial Plant', '']:\n",
    "        building_type = 'Manufacturing'\n",
    "    if n in ['Fitness Center/Health Club/Gym']:\n",
    "        building_type = 'Fitness'\n",
    "    if n in ['Movie Theater', 'Performing Arts', 'Bar/Nightclub']:\n",
    "        building_type = 'Entertainment Venue'\n",
    "    if n in ['Self-Storage Facility', 'Non-Refrigerated Warehouse', 'Refrigerated Warehouse','Wholesale Club/Supercenter', 'Distribution Center']  :\n",
    "        building_type = 'Warehouse Type'\n",
    "    if n in ['Data Center']:\n",
    "        building_type = 'Data Center'    \n",
    "    return building_type    \n",
    "    "
   ]
  },
  {
   "cell_type": "code",
   "execution_count": 9,
   "metadata": {
    "collapsed": true
   },
   "outputs": [],
   "source": [
    "all_vals_y_data['Grouped_Building_Type'] = all_vals_y_data['Property Type - Self Selected_clean'].apply(choose_building_type)"
   ]
  },
  {
   "cell_type": "code",
   "execution_count": 10,
   "metadata": {
    "collapsed": true
   },
   "outputs": [],
   "source": [
    "x_complete_all_vals_y_data = all_vals_y_data.dropna().copy()"
   ]
  },
  {
   "cell_type": "code",
   "execution_count": 11,
   "metadata": {},
   "outputs": [
    {
     "name": "stdout",
     "output_type": "stream",
     "text": [
      "<class 'pandas.core.frame.DataFrame'>\n",
      "Int64Index: 811 entries, 0 to 972\n",
      "Data columns (total 17 columns):\n",
      "parcel_index                                   811 non-null object\n",
      "Postal Code                                    811 non-null int64\n",
      "Full_Address_clean                             811 non-null object\n",
      "Building Name_clean                            811 non-null object\n",
      "Energy Audit Status_clean                      811 non-null object\n",
      "Benchmark 2015 Status_clean                    811 non-null object\n",
      "Property Type - Self Selected_clean            811 non-null object\n",
      "Datetime Energy Audit Due                      811 non-null object\n",
      "2015 Weather Normalized Site EUI (kBtu/ft2)    811 non-null float64\n",
      "address_cl                                     811 non-null object\n",
      "land_value_cl                                  811 non-null float64\n",
      "structure_value_cl                             811 non-null float64\n",
      "year_built_cl                                  811 non-null float64\n",
      "building_area_cl                               811 non-null float64\n",
      "parcel_area_cl                                 811 non-null float64\n",
      "stories_cl                                     811 non-null float64\n",
      "Grouped_Building_Type                          811 non-null object\n",
      "dtypes: float64(7), int64(1), object(9)\n",
      "memory usage: 114.0+ KB\n"
     ]
    }
   ],
   "source": [
    "x_complete_all_vals_y_data.info()"
   ]
  },
  {
   "cell_type": "code",
   "execution_count": null,
   "metadata": {
    "collapsed": true
   },
   "outputs": [],
   "source": []
  },
  {
   "cell_type": "code",
   "execution_count": 12,
   "metadata": {
    "collapsed": true
   },
   "outputs": [],
   "source": [
    "#need to make new datetime column for energy audit due date and convert year to int\n",
    "x_complete_all_vals_y_data['Datetime Energy Audit Due'] = pd.to_datetime(x_complete_all_vals_y_data['Datetime Energy Audit Due'], format = \"%Y-%m-%d\")\n",
    "x_complete_all_vals_y_data['Datetime Energy Audit Due'] = pd.to_numeric(x_complete_all_vals_y_data['Datetime Energy Audit Due'])\n",
    "x_complete_all_vals_y_data['year_built_cl'] = x_complete_all_vals_y_data['year_built_cl'].apply(np.int64)"
   ]
  },
  {
   "cell_type": "code",
   "execution_count": 13,
   "metadata": {
    "collapsed": true
   },
   "outputs": [],
   "source": [
    "x_complete_all_vals_y_data = x_complete_all_vals_y_data[x_complete_all_vals_y_data['year_built_cl'] <= 2017]"
   ]
  },
  {
   "cell_type": "code",
   "execution_count": 14,
   "metadata": {},
   "outputs": [
    {
     "data": {
      "text/plain": [
       "count     811.000000\n",
       "mean       69.086313\n",
       "std       100.507426\n",
       "min        -0.600000\n",
       "25%        31.650000\n",
       "50%        50.900000\n",
       "75%        74.600000\n",
       "max      1417.600000\n",
       "Name: 2015 Weather Normalized Site EUI (kBtu/ft2), dtype: float64"
      ]
     },
     "execution_count": 14,
     "metadata": {},
     "output_type": "execute_result"
    }
   ],
   "source": [
    "x_complete_all_vals_y_data['2015 Weather Normalized Site EUI (kBtu/ft2)'].describe()"
   ]
  },
  {
   "cell_type": "code",
   "execution_count": 15,
   "metadata": {},
   "outputs": [
    {
     "name": "stdout",
     "output_type": "stream",
     "text": [
      "<class 'pandas.core.frame.DataFrame'>\n",
      "Int64Index: 811 entries, 0 to 972\n",
      "Data columns (total 17 columns):\n",
      "parcel_index                                   811 non-null object\n",
      "Postal Code                                    811 non-null int64\n",
      "Full_Address_clean                             811 non-null object\n",
      "Building Name_clean                            811 non-null object\n",
      "Energy Audit Status_clean                      811 non-null object\n",
      "Benchmark 2015 Status_clean                    811 non-null object\n",
      "Property Type - Self Selected_clean            811 non-null object\n",
      "Datetime Energy Audit Due                      811 non-null int64\n",
      "2015 Weather Normalized Site EUI (kBtu/ft2)    811 non-null float64\n",
      "address_cl                                     811 non-null object\n",
      "land_value_cl                                  811 non-null float64\n",
      "structure_value_cl                             811 non-null float64\n",
      "year_built_cl                                  811 non-null int64\n",
      "building_area_cl                               811 non-null float64\n",
      "parcel_area_cl                                 811 non-null float64\n",
      "stories_cl                                     811 non-null float64\n",
      "Grouped_Building_Type                          811 non-null object\n",
      "dtypes: float64(6), int64(3), object(8)\n",
      "memory usage: 114.0+ KB\n"
     ]
    }
   ],
   "source": [
    "x_complete_all_vals_y_data.info()"
   ]
  },
  {
   "cell_type": "code",
   "execution_count": 16,
   "metadata": {
    "collapsed": true
   },
   "outputs": [],
   "source": [
    "x_complete_all_vals_y_data = pd.get_dummies(x_complete_all_vals_y_data, columns=['Property Type - Self Selected_clean'])\n",
    "x_complete_all_vals_y_data = pd.get_dummies(x_complete_all_vals_y_data, columns=['Energy Audit Status_clean'])\n",
    "x_complete_all_vals_y_data = pd.get_dummies(x_complete_all_vals_y_data, columns=['Benchmark 2015 Status_clean'])\n",
    "x_complete_all_vals_y_data = pd.get_dummies(x_complete_all_vals_y_data, columns = ['Grouped_Building_Type'])"
   ]
  },
  {
   "cell_type": "code",
   "execution_count": 17,
   "metadata": {
    "collapsed": true
   },
   "outputs": [],
   "source": [
    "#Separate our features from our target for linear regression model\n",
    "\n",
    "X=x_complete_all_vals_y_data.drop(['2015 Weather Normalized Site EUI (kBtu/ft2)', 'parcel_index', 'Full_Address_clean', 'Building Name_clean', 'address_cl'], axis = 1)\n",
    "\n",
    "y=x_complete_all_vals_y_data['2015 Weather Normalized Site EUI (kBtu/ft2)']"
   ]
  },
  {
   "cell_type": "code",
   "execution_count": 18,
   "metadata": {},
   "outputs": [
    {
     "data": {
      "text/plain": [
       "(811, 78)"
      ]
     },
     "execution_count": 18,
     "metadata": {},
     "output_type": "execute_result"
    }
   ],
   "source": [
    "X.shape"
   ]
  },
  {
   "cell_type": "code",
   "execution_count": 19,
   "metadata": {},
   "outputs": [
    {
     "data": {
      "text/plain": [
       "-0.59999999999999998"
      ]
     },
     "execution_count": 19,
     "metadata": {},
     "output_type": "execute_result"
    }
   ],
   "source": [
    "y.values.min()"
   ]
  },
  {
   "cell_type": "code",
   "execution_count": 20,
   "metadata": {
    "collapsed": true
   },
   "outputs": [],
   "source": [
    "\n",
    "from sklearn.pipeline import Pipeline\n",
    "from sklearn.preprocessing import StandardScaler"
   ]
  },
  {
   "cell_type": "code",
   "execution_count": 21,
   "metadata": {},
   "outputs": [
    {
     "name": "stdout",
     "output_type": "stream",
     "text": [
      "We just ran this model using kfolds of: 3\n",
      "The best lambda value was: 0.585\n",
      "For the model using the best lambda of: 0.585 the R^2 score was: 0.0552094483857 the rmserror was: 102.060090946\n",
      "This means that in order of impact on model results, features and their coefficients from most to least impact per unit of the feature are:\n",
      "('Property Type - Self Selected_clean_Data Center', 59.887300855361374)\n",
      "('Grouped_Building_Type_Food Service', 26.513106263437937)\n",
      "('Property Type - Self Selected_clean_Other', 15.53273814798488)\n",
      "('Property Type - Self Selected_clean_Restaurant', 7.1764064943800152)\n",
      "('Grouped_Building_Type_Warehouse Type', -6.4964973086649715)\n",
      "('Grouped_Building_Type_Hospitality', 5.0249207479905937)\n",
      "('Energy Audit Status_clean_Pending', -4.8352275510696021)\n",
      "('Property Type - Self Selected_clean_Wholesale Club/Supercenter', 4.3014434678138702)\n",
      "('Property Type - Self Selected_clean_Senior Care Community', 4.1854660475067416)\n",
      "('Property Type - Self Selected_clean_Refrigerated Warehouse', 3.5955459698558481)\n",
      "('Property Type - Self Selected_clean_Retail Store', 2.9931749396280587)\n",
      "('year_built_cl', 2.899585147136734)\n",
      "('Property Type - Self Selected_clean_Worship Facility', -2.37840194042737)\n",
      "('Grouped_Building_Type_Other', 2.1369617031522874)\n",
      "('Postal Code', 2.0056390695893733)\n",
      "('Property Type - Self Selected_clean_Other - Services', -1.9367219526101938)\n",
      "('Property Type - Self Selected_clean_Veterinary Office', 1.8824754314460388)\n",
      "('Energy Audit Status_clean_Complied', 1.7788067881409002)\n",
      "('Energy Audit Status_clean_Exempt - ZNE Certified', -1.7308350947494839)\n",
      "('Property Type - Self Selected_clean_Mixed Use Property', -1.5959595806739406)\n",
      "('Energy Audit Status_clean_Exempt', -1.5740945945076659)\n",
      "('Property Type - Self Selected_clean_Other - Education', 1.4814314722420798)\n",
      "('Property Type - Self Selected_clean_Strip Mall', -1.4620276836039274)\n",
      "('Property Type - Self Selected_clean_Enclosed Mall', 1.4035297573677696)\n",
      "('Property Type - Self Selected_clean_Fitness Center/Health Club/Gym', -1.280415214350632)\n",
      "('Energy Audit Status_clean_Did Not Comply', 1.0770947749980671)\n",
      "('Property Type - Self Selected_clean_College/University', 1.059882826225838)\n",
      "('Property Type - Self Selected_clean_Other - Mall', -0.9906102655476634)\n",
      "('Property Type - Self Selected_clean_Financial Office', 0.93781374835185383)\n",
      "('Property Type - Self Selected_clean_Other - Recreation', 0.92013158262083161)\n",
      "('Grouped_Building_Type_Data Center', 0.89247821588882192)\n",
      "('Grouped_Building_Type_Community Facility', -0.84795245122275908)\n",
      "('Property Type - Self Selected_clean_Self-Storage Facility', -0.76429157116032131)\n",
      "('Property Type - Self Selected_clean_Automobile Dealership', -0.7440895870244878)\n",
      "('Energy Audit Status_clean_Exempt - Building demolition', -0.69483472079201403)\n",
      "('Property Type - Self Selected_clean_Pre-school/Daycare', -0.67763795417622275)\n",
      "('Property Type - Self Selected_clean_Manufacturing/Industrial Plant', -0.67273896825740853)\n",
      "('Property Type - Self Selected_clean_Bank Branch', -0.62611070859578788)\n",
      "('Property Type - Self Selected_clean_Other - Entertainment/Public Assembly', -0.47058463637670894)\n",
      "('Property Type - Self Selected_clean_Museum', -0.41941107384095144)\n",
      "('Grouped_Building_Type_Fitness', -0.2727356989174185)\n",
      "('Property Type - Self Selected_clean_Medical Office', 0.062296561316099369)\n",
      "('stories_cl', -0.050099881382471803)\n",
      "('Property Type - Self Selected_clean_Adult Education', -0.017362886803442796)\n",
      "('Grouped_Building_Type_Manufacturing', -6.3757776642606027e-05)\n",
      "('Datetime Energy Audit Due', 0.0)\n",
      "('land_value_cl', 0.0)\n",
      "('structure_value_cl', 0.0)\n",
      "('building_area_cl', -0.0)\n",
      "('parcel_area_cl', -0.0)\n",
      "('Property Type - Self Selected_clean_Bar/Nightclub', 0.0)\n",
      "('Property Type - Self Selected_clean_Distribution Center', -0.0)\n",
      "('Property Type - Self Selected_clean_Hospital (General Medical & Surgical)', 0.0)\n",
      "('Property Type - Self Selected_clean_Hotel', 0.0)\n",
      "('Property Type - Self Selected_clean_K-12 School', -0.0)\n",
      "('Property Type - Self Selected_clean_Laboratory', 0.0)\n",
      "('Property Type - Self Selected_clean_Movie Theater', 0.0)\n",
      "('Property Type - Self Selected_clean_Non-Refrigerated Warehouse', -0.0)\n",
      "('Property Type - Self Selected_clean_Office', -0.0)\n",
      "('Property Type - Self Selected_clean_Parking', 0.0)\n",
      "('Property Type - Self Selected_clean_Performing Arts', 0.0)\n",
      "('Property Type - Self Selected_clean_Personal Services (Health/Beauty, Dry Cleaning, etc.)', -0.0)\n",
      "('Property Type - Self Selected_clean_Repair Services (Vehicle, Shoe, Locksmith, etc.)', 0.0)\n",
      "('Property Type - Self Selected_clean_Social/Meeting Hall', -0.0)\n",
      "('Property Type - Self Selected_clean_Supermarket/Grocery Store', 0.0)\n",
      "('Property Type - Self Selected_clean_Urgent Care/Clinic/Other Outpatient', -0.0)\n",
      "('Property Type - Self Selected_clean_Vocational School', 0.0)\n",
      "('Energy Audit Status_clean_Exempt - ENERGY STAR', -0.0)\n",
      "('Energy Audit Status_clean_Exempt - LEED EBOM', -0.0)\n",
      "('Energy Audit Status_clean_Exempt - Vacant', 0.0)\n",
      "('Energy Audit Status_clean_Upcoming', 0.0)\n",
      "('Benchmark 2015 Status_clean_Complied', 0.0)\n",
      "('Grouped_Building_Type_Education', 0.0)\n",
      "('Grouped_Building_Type_Entertainment Venue', 0.0)\n",
      "('Grouped_Building_Type_Healthcare or Laboratory', 0.0)\n",
      "('Grouped_Building_Type_Mixed Use or Retail', -0.0)\n",
      "('Grouped_Building_Type_Office', -0.0)\n",
      "('Grouped_Building_Type_Parking', 0.0)\n"
     ]
    }
   ],
   "source": [
    "#Try my own LassoCV code but with standardization\n",
    "\n",
    "#produce kfolds of data w/ n_splits folds/splits\n",
    "kf = KFold(n_splits=3, shuffle = True)\n",
    "\n",
    "Prediction_error_list = [] \n",
    "\n",
    "alpha_lambda = np.arange(0.001,1,0.001)  \n",
    "\n",
    "std = StandardScaler()\n",
    "\n",
    "for val in alpha_lambda:    #loop over lambdas\n",
    "\n",
    "    pred_err = 0.0    #initialize prediction error\n",
    "    for train_index, test_index in kf.split(X):    #loop over the folds\n",
    "        X_train, X_test = X.iloc[train_index], X.iloc[test_index] #create training and test independent variable data without scaling\n",
    "        std.fit(X_train) #apply fit only only training ddata\n",
    "        X_tr, X_te = std.transform(X_train), std.transform(X_test)    #apply standard scaler and use to find best alpha\n",
    "                         \n",
    "        y_train, y_test = y.iloc[train_index], y.iloc[test_index]    #create training and test dependent variable data\n",
    "\n",
    "        model = Lasso(alpha = val, tol =0.3)    #create the model object with lambda equal to val in list\n",
    "        results = model.fit(X_tr,y_train)    #fit the model\n",
    "        pred_err += sum((model.predict(X_te) - y_test)**2)    #predict the test data, compute the error, and add to total\n",
    "    \n",
    "    Prediction_error_list.append(pred_err)    #append the prediction error\n",
    "##    print('lambda value tested was:' , val, 'sum of prediction error was:' , pred_err)\n",
    "\n",
    "print(\"We just ran this model using kfolds of:\", kf.get_n_splits(X))\n",
    "\n",
    "best_lambda = alpha_lambda[Prediction_error_list.index(min(Prediction_error_list))]\n",
    "\n",
    "print(\"The best lambda value was:\", best_lambda)    \n",
    "\n",
    "#run the lasso with the best lambda value:\n",
    "#Lambda = sum(((1.0/np.array(Prediction_error))/sum(1.0/np.array(Prediction_error)))*np.array(Lambda))    #compute lambda as the weighted average\n",
    "model = Lasso(best_lambda)    #generate a model object\n",
    "results = model.fit(X_tr,y_train) #fit the model\n",
    "\n",
    "R_2_score = model.score(X_te, y_test)\n",
    "\n",
    "test_set_pred = model.predict(X_te)\n",
    "\n",
    "rms_err = np.sqrt(np.mean((test_set_pred - y_test)**2))\n",
    "\n",
    "print(\"For the model using the best lambda of:\", best_lambda, \"the R^2 score was:\", R_2_score, \"the rmserror was:\", rms_err)\n",
    "\n",
    "#print(\"For the model using the best lambda of\", best_lambda, \" the coefficients of the features were:\")\n",
    "#for this model using the best lambda, print out what the coefficients were\n",
    "feature_coeffs = list(zip(X_train.columns, model.coef_))\n",
    "\n",
    "# for i in range(0,len(feature_coeffs)):\n",
    "#     print(feature_coeffs[i])\n",
    "\n",
    "print(\"This means that in order of impact on model results, features and their coefficients from most to least impact per unit of the feature are:\")\n",
    "\n",
    "feature_importance_list = sorted(feature_coeffs, key = lambda x: abs(x[1]), reverse = True)\n",
    "\n",
    "for i in range(0, len(feature_importance_list)):\n",
    "    print(feature_importance_list[i])\n",
    "    \n",
    "    \n"
   ]
  },
  {
   "cell_type": "code",
   "execution_count": null,
   "metadata": {
    "collapsed": true
   },
   "outputs": [],
   "source": []
  }
 ],
 "metadata": {
  "kernelspec": {
   "display_name": "Python 3",
   "language": "python",
   "name": "python3"
  },
  "language_info": {
   "codemirror_mode": {
    "name": "ipython",
    "version": 3
   },
   "file_extension": ".py",
   "mimetype": "text/x-python",
   "name": "python",
   "nbconvert_exporter": "python",
   "pygments_lexer": "ipython3",
   "version": "3.6.1"
  }
 },
 "nbformat": 4,
 "nbformat_minor": 2
}
