{
 "cells": [
  {
   "cell_type": "code",
   "execution_count": 1,
   "metadata": {
    "collapsed": true
   },
   "outputs": [],
   "source": [
    "import csv\n",
    "import numpy as np\n",
    "import pandas as pd\n",
    "import seaborn as sns\n",
    "from sklearn.model_selection import KFold\n",
    "from sklearn.model_selection import train_test_split\n",
    "from sklearn.linear_model import LinearRegression, Lasso, LassoCV, Ridge, RidgeCV\n",
    "from sklearn.ensemble import RandomForestRegressor\n",
    "from sklearn import linear_model,ensemble, tree, model_selection\n",
    "\n",
    "import matplotlib.pyplot as plt\n",
    "\n",
    "%matplotlib inline\n",
    "\n",
    "from sklearn.externals.six import StringIO\n",
    "from sklearn.ensemble import RandomForestRegressor"
   ]
  },
  {
   "cell_type": "code",
   "execution_count": 2,
   "metadata": {
    "collapsed": true
   },
   "outputs": [],
   "source": [
    "## Load in the merged SF EUI/SF Property Info Map Data\n",
    "datafile = \"merged_SF_EUI_SF_Info_Map_df.csv\"\n",
    "df=pd.read_csv(datafile)\n",
    "\n",
    "# Delete year built >2017\n",
    "\n",
    "df = df.loc[df['year_built_cl']<=2017,:].reset_index()\n",
    "all_vals_y_data = df.dropna(subset = ['2015 Weather Normalized Site EUI (kBtu/ft2)']).copy().reset_index"
   ]
  },
  {
   "cell_type": "code",
   "execution_count": 3,
   "metadata": {
    "collapsed": true
   },
   "outputs": [],
   "source": [
    "\n",
    "all_vals_y_data = df.dropna(subset = ['2015 Weather Normalized Site EUI (kBtu/ft2)']).copy()\n",
    "all_vals_y_data.drop(['Unnamed: 0', 'Unnamed: 0.1', 'Energy Audit Status_clean.1', 'index'], axis=1, inplace = True)\n",
    "all_vals_y_data.dropna(thresh= (len(all_vals_y_data) - 200), axis=1, inplace = True)"
   ]
  },
  {
   "cell_type": "code",
   "execution_count": 4,
   "metadata": {
    "collapsed": true
   },
   "outputs": [],
   "source": [
    "def choose_building_type(n):\n",
    "    building_type = 'Other'\n",
    "    if n in ['Urgent Care/Clinic/Other Outpatient', 'Hospital (General Medical & Surgical)', 'Veterinary Office', 'Laboratory']:\n",
    "        building_type = 'Healthcare or Laboratory'\n",
    "    if n in ['Restaurant', 'Food Sales','Supermarket/Grocery Store', 'Food Service', 'Other - Restaurant/Bar']:\n",
    "        building_type = 'Food Service'\n",
    "    if n in ['Office', 'Financial Office', 'Medical Office', 'Bank Branch']:\n",
    "        building_type = 'Office'\n",
    "    if n in ['Worship Facility', 'Social/Meeting Hall', 'Other - Recreation', 'Senior Care Community', 'Other - Entertainment/Public Assembly', 'Museum']:   \n",
    "        building_type = 'Community Facility'\n",
    "    if n in ['Hotel']:\n",
    "        building_type = 'Hospitality'\n",
    "    if n in ['College/University', 'Other - Education','Adult Education', 'K-12 School', 'Pre-school/Daycare', 'Vocational School']:\n",
    "        building_type = 'Education'\n",
    "    if n in ['Mixed Use Property', 'Other - Mall','Enclosed Mall','Repair Services (Vehicle, Shoe, Locksmith, etc.)','Automobile Dealership','Other - Services', 'Retail Store', 'Personal Services (Health/Beauty, Dry Cleaning, etc.)', 'Strip Mall']:\n",
    "        building_type = 'Mixed Use or Retail'\n",
    "    if n in ['Parking']:\n",
    "        building_type = 'Parking'\n",
    "    if n in ['Manufacturing/Industrial Plant', '']:\n",
    "        building_type = 'Manufacturing'\n",
    "    if n in ['Fitness Center/Health Club/Gym']:\n",
    "        building_type = 'Fitness'\n",
    "    if n in ['Movie Theater', 'Performing Arts', 'Bar/Nightclub']:\n",
    "        building_type = 'Entertainment Venue'\n",
    "    if n in ['Self-Storage Facility', 'Non-Refrigerated Warehouse', 'Refrigerated Warehouse','Wholesale Club/Supercenter', 'Distribution Center']  :\n",
    "        building_type = 'Warehouse Type'\n",
    "    if n in ['Data Center']:\n",
    "        building_type = 'Data Center'    \n",
    "    return building_type    \n",
    "    "
   ]
  },
  {
   "cell_type": "code",
   "execution_count": 5,
   "metadata": {
    "collapsed": true
   },
   "outputs": [],
   "source": [
    "all_vals_y_data['Grouped_Building_Type'] = all_vals_y_data['Property Type - Self Selected_clean'].apply(choose_building_type)"
   ]
  },
  {
   "cell_type": "code",
   "execution_count": null,
   "metadata": {
    "collapsed": true
   },
   "outputs": [],
   "source": []
  },
  {
   "cell_type": "code",
   "execution_count": 6,
   "metadata": {
    "collapsed": true
   },
   "outputs": [],
   "source": [
    "\n",
    "x_complete_all_vals_y_data = all_vals_y_data.dropna().copy()\n",
    "#need to make new datetime column for energy audit due date\n",
    "x_complete_all_vals_y_data['Datetime Energy Audit Due'] = pd.to_datetime(x_complete_all_vals_y_data['Datetime Energy Audit Due'], format = \"%Y-%m-%d\")\n",
    "x_complete_all_vals_y_data['Datetime Energy Audit Due'] = pd.to_numeric(x_complete_all_vals_y_data['Datetime Energy Audit Due'])\n",
    "x_complete_all_vals_y_data = pd.get_dummies(x_complete_all_vals_y_data, columns=['Property Type - Self Selected_clean'])\n",
    "x_complete_all_vals_y_data = pd.get_dummies(x_complete_all_vals_y_data, columns=['Energy Audit Status_clean'])\n",
    "x_complete_all_vals_y_data = pd.get_dummies(x_complete_all_vals_y_data, columns=['Benchmark 2015 Status_clean'])\n",
    "x_complete_all_vals_y_data = pd.get_dummies(x_complete_all_vals_y_data, columns = ['Grouped_Building_Type'])"
   ]
  },
  {
   "cell_type": "code",
   "execution_count": 7,
   "metadata": {},
   "outputs": [
    {
     "name": "stdout",
     "output_type": "stream",
     "text": [
      "<class 'pandas.core.frame.DataFrame'>\n",
      "Int64Index: 811 entries, 0 to 1439\n",
      "Data columns (total 83 columns):\n",
      "parcel_index                                                                                 811 non-null object\n",
      "Postal Code                                                                                  811 non-null int64\n",
      "Full_Address_clean                                                                           811 non-null object\n",
      "Building Name_clean                                                                          811 non-null object\n",
      "Datetime Energy Audit Due                                                                    811 non-null int64\n",
      "2015 Weather Normalized Site EUI (kBtu/ft2)                                                  811 non-null float64\n",
      "address_cl                                                                                   811 non-null object\n",
      "land_value_cl                                                                                811 non-null float64\n",
      "structure_value_cl                                                                           811 non-null float64\n",
      "year_built_cl                                                                                811 non-null float64\n",
      "building_area_cl                                                                             811 non-null float64\n",
      "parcel_area_cl                                                                               811 non-null float64\n",
      "stories_cl                                                                                   811 non-null float64\n",
      "Property Type - Self Selected_clean_Adult Education                                          811 non-null uint8\n",
      "Property Type - Self Selected_clean_Automobile Dealership                                    811 non-null uint8\n",
      "Property Type - Self Selected_clean_Bank Branch                                              811 non-null uint8\n",
      "Property Type - Self Selected_clean_Bar/Nightclub                                            811 non-null uint8\n",
      "Property Type - Self Selected_clean_College/University                                       811 non-null uint8\n",
      "Property Type - Self Selected_clean_Data Center                                              811 non-null uint8\n",
      "Property Type - Self Selected_clean_Distribution Center                                      811 non-null uint8\n",
      "Property Type - Self Selected_clean_Enclosed Mall                                            811 non-null uint8\n",
      "Property Type - Self Selected_clean_Financial Office                                         811 non-null uint8\n",
      "Property Type - Self Selected_clean_Fitness Center/Health Club/Gym                           811 non-null uint8\n",
      "Property Type - Self Selected_clean_Hospital (General Medical & Surgical)                    811 non-null uint8\n",
      "Property Type - Self Selected_clean_Hotel                                                    811 non-null uint8\n",
      "Property Type - Self Selected_clean_K-12 School                                              811 non-null uint8\n",
      "Property Type - Self Selected_clean_Laboratory                                               811 non-null uint8\n",
      "Property Type - Self Selected_clean_Manufacturing/Industrial Plant                           811 non-null uint8\n",
      "Property Type - Self Selected_clean_Medical Office                                           811 non-null uint8\n",
      "Property Type - Self Selected_clean_Mixed Use Property                                       811 non-null uint8\n",
      "Property Type - Self Selected_clean_Movie Theater                                            811 non-null uint8\n",
      "Property Type - Self Selected_clean_Museum                                                   811 non-null uint8\n",
      "Property Type - Self Selected_clean_Non-Refrigerated Warehouse                               811 non-null uint8\n",
      "Property Type - Self Selected_clean_Office                                                   811 non-null uint8\n",
      "Property Type - Self Selected_clean_Other                                                    811 non-null uint8\n",
      "Property Type - Self Selected_clean_Other - Education                                        811 non-null uint8\n",
      "Property Type - Self Selected_clean_Other - Entertainment/Public Assembly                    811 non-null uint8\n",
      "Property Type - Self Selected_clean_Other - Mall                                             811 non-null uint8\n",
      "Property Type - Self Selected_clean_Other - Recreation                                       811 non-null uint8\n",
      "Property Type - Self Selected_clean_Other - Services                                         811 non-null uint8\n",
      "Property Type - Self Selected_clean_Parking                                                  811 non-null uint8\n",
      "Property Type - Self Selected_clean_Performing Arts                                          811 non-null uint8\n",
      "Property Type - Self Selected_clean_Personal Services (Health/Beauty, Dry Cleaning, etc.)    811 non-null uint8\n",
      "Property Type - Self Selected_clean_Pre-school/Daycare                                       811 non-null uint8\n",
      "Property Type - Self Selected_clean_Refrigerated Warehouse                                   811 non-null uint8\n",
      "Property Type - Self Selected_clean_Repair Services (Vehicle, Shoe, Locksmith, etc.)         811 non-null uint8\n",
      "Property Type - Self Selected_clean_Restaurant                                               811 non-null uint8\n",
      "Property Type - Self Selected_clean_Retail Store                                             811 non-null uint8\n",
      "Property Type - Self Selected_clean_Self-Storage Facility                                    811 non-null uint8\n",
      "Property Type - Self Selected_clean_Senior Care Community                                    811 non-null uint8\n",
      "Property Type - Self Selected_clean_Social/Meeting Hall                                      811 non-null uint8\n",
      "Property Type - Self Selected_clean_Strip Mall                                               811 non-null uint8\n",
      "Property Type - Self Selected_clean_Supermarket/Grocery Store                                811 non-null uint8\n",
      "Property Type - Self Selected_clean_Urgent Care/Clinic/Other Outpatient                      811 non-null uint8\n",
      "Property Type - Self Selected_clean_Veterinary Office                                        811 non-null uint8\n",
      "Property Type - Self Selected_clean_Vocational School                                        811 non-null uint8\n",
      "Property Type - Self Selected_clean_Wholesale Club/Supercenter                               811 non-null uint8\n",
      "Property Type - Self Selected_clean_Worship Facility                                         811 non-null uint8\n",
      "Energy Audit Status_clean_Complied                                                           811 non-null uint8\n",
      "Energy Audit Status_clean_Did Not Comply                                                     811 non-null uint8\n",
      "Energy Audit Status_clean_Exempt                                                             811 non-null uint8\n",
      "Energy Audit Status_clean_Exempt - Building demolition                                       811 non-null uint8\n",
      "Energy Audit Status_clean_Exempt - ENERGY STAR                                               811 non-null uint8\n",
      "Energy Audit Status_clean_Exempt - LEED EBOM                                                 811 non-null uint8\n",
      "Energy Audit Status_clean_Exempt - Vacant                                                    811 non-null uint8\n",
      "Energy Audit Status_clean_Exempt - ZNE Certified                                             811 non-null uint8\n",
      "Energy Audit Status_clean_Pending                                                            811 non-null uint8\n",
      "Energy Audit Status_clean_Upcoming                                                           811 non-null uint8\n",
      "Benchmark 2015 Status_clean_Complied                                                         811 non-null uint8\n",
      "Grouped_Building_Type_Community Facility                                                     811 non-null uint8\n",
      "Grouped_Building_Type_Data Center                                                            811 non-null uint8\n",
      "Grouped_Building_Type_Education                                                              811 non-null uint8\n",
      "Grouped_Building_Type_Entertainment Venue                                                    811 non-null uint8\n",
      "Grouped_Building_Type_Fitness                                                                811 non-null uint8\n",
      "Grouped_Building_Type_Food Service                                                           811 non-null uint8\n",
      "Grouped_Building_Type_Healthcare or Laboratory                                               811 non-null uint8\n",
      "Grouped_Building_Type_Hospitality                                                            811 non-null uint8\n",
      "Grouped_Building_Type_Manufacturing                                                          811 non-null uint8\n",
      "Grouped_Building_Type_Mixed Use or Retail                                                    811 non-null uint8\n",
      "Grouped_Building_Type_Office                                                                 811 non-null uint8\n",
      "Grouped_Building_Type_Other                                                                  811 non-null uint8\n",
      "Grouped_Building_Type_Parking                                                                811 non-null uint8\n",
      "Grouped_Building_Type_Warehouse Type                                                         811 non-null uint8\n",
      "dtypes: float64(7), int64(2), object(4), uint8(70)\n",
      "memory usage: 144.1+ KB\n"
     ]
    }
   ],
   "source": [
    "x_complete_all_vals_y_data.info()"
   ]
  },
  {
   "cell_type": "code",
   "execution_count": 8,
   "metadata": {
    "collapsed": true
   },
   "outputs": [],
   "source": [
    "#Separate our features from our target for model\n",
    "\n",
    "X=x_complete_all_vals_y_data.drop(['2015 Weather Normalized Site EUI (kBtu/ft2)', 'parcel_index', 'Full_Address_clean', 'Building Name_clean', 'address_cl'], axis = 1)\n",
    "\n",
    "y=x_complete_all_vals_y_data['2015 Weather Normalized Site EUI (kBtu/ft2)']"
   ]
  },
  {
   "cell_type": "code",
   "execution_count": 9,
   "metadata": {
    "collapsed": true
   },
   "outputs": [],
   "source": [
    "X,holdoutX,y,holdouty = model_selection.train_test_split(X,y,test_size = .1, random_state=42)\n"
   ]
  },
  {
   "cell_type": "code",
   "execution_count": 10,
   "metadata": {},
   "outputs": [
    {
     "name": "stdout",
     "output_type": "stream",
     "text": [
      "Model: linear_model\n",
      "Score: -0.0226044163086\n",
      "\n",
      "Model: ridge_model\n",
      "Score: 0.311807434888\n",
      "\n",
      "Model: lasso_model\n",
      "Score: 0.256958683729\n",
      "\n",
      "Model: robust_regression\n",
      "Score: -2.23242995967e+60\n",
      "\n",
      "Model: eps_insensitive\n",
      "Score: -2.70337307506e+62\n",
      "\n",
      "Model: cart\n",
      "Score: -0.451933492529\n",
      "\n",
      "Model: extratrees\n",
      "Score: -0.217041621211\n",
      "\n",
      "Model: randomForest\n",
      "Score: 0.0756431243302\n",
      "\n",
      "Model: adaboostedTrees\n",
      "Score: -0.00646716583959\n",
      "\n",
      "Model: gradboostedTrees\n",
      "Score: -0.188728972461\n",
      "\n"
     ]
    }
   ],
   "source": [
    "\n",
    "models = {}\n",
    "parameters = {}\n",
    "\n",
    "models['linear_model'] = linear_model.LinearRegression()\n",
    "models['ridge_model'] = linear_model.Ridge()\n",
    "models['lasso_model'] = linear_model.Lasso(alpha=.5)\n",
    "models['robust_regression'] = linear_model.SGDRegressor(loss='huber',n_iter=20)\n",
    "models['eps_insensitive'] = linear_model.SGDRegressor(loss='epsilon_insensitive',n_iter=20)\n",
    "\n",
    "\n",
    "models['cart'] = tree.DecisionTreeRegressor(max_depth=7)\n",
    "models['extratrees'] = tree.ExtraTreeRegressor(max_depth=7)\n",
    "models['randomForest'] = ensemble.RandomForestRegressor()\n",
    "models['adaboostedTrees'] = ensemble.AdaBoostRegressor()\n",
    "models['gradboostedTrees'] = ensemble.GradientBoostingRegressor()\n",
    "\n",
    "\n",
    "for name,model in models.items():\n",
    "    scores = model_selection.cross_val_score(model, X, y, n_jobs=1)\n",
    "    print('Model: '+name)\n",
    "    print(\"Score: \" + str(np.mean(scores)))\n",
    "    print()"
   ]
  },
  {
   "cell_type": "code",
   "execution_count": null,
   "metadata": {
    "collapsed": true
   },
   "outputs": [],
   "source": []
  }
 ],
 "metadata": {
  "kernelspec": {
   "display_name": "Python 3",
   "language": "python",
   "name": "python3"
  },
  "language_info": {
   "codemirror_mode": {
    "name": "ipython",
    "version": 3
   },
   "file_extension": ".py",
   "mimetype": "text/x-python",
   "name": "python",
   "nbconvert_exporter": "python",
   "pygments_lexer": "ipython3",
   "version": "3.6.1"
  }
 },
 "nbformat": 4,
 "nbformat_minor": 2
}
